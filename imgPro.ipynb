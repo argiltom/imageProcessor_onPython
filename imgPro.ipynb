{
 "cells": [
  {
   "cell_type": "code",
   "execution_count": 1,
   "metadata": {},
   "outputs": [],
   "source": [
    "import sys\n",
    "import numpy as np\n",
    "import math\n",
    "import cv2\n",
    "import time\n",
    "from imgProLib import imgProCls\n"
   ]
  },
  {
   "cell_type": "code",
   "execution_count": 3,
   "metadata": {},
   "outputs": [],
   "source": [
    "#画像読み込み\n",
    "\n",
    "fname_in  = \"girl2.png\"\n",
    "img = cv2.imread(fname_in)\n",
    "if img.all() == None:\n",
    "    print(\"画像が見つかりません\")\n",
    "pro=imgProCls(img)\n"
   ]
  },
  {
   "cell_type": "code",
   "execution_count": 4,
   "metadata": {},
   "outputs": [],
   "source": [
    "#大津法\n",
    "retImg=pro.OutuMethod()\n",
    "#この3つがそろえば、カーネルが壊れない\n",
    "cv2.imshow(\"retImg\",retImg)\n",
    "cv2.waitKey(0)\n",
    "cv2.destroyAllWindows()\n"
   ]
  },
  {
   "cell_type": "code",
   "execution_count": 29,
   "metadata": {},
   "outputs": [],
   "source": [
    "#誤差分散\n",
    "retImg=pro.ErrorDiffusionHalfTone()\n",
    "#この3つがそろえば、カーネルが壊れない\n",
    "cv2.imshow(\"retImg\",retImg)\n",
    "cv2.waitKey(0)\n",
    "cv2.destroyAllWindows()"
   ]
  },
  {
   "cell_type": "code",
   "execution_count": 30,
   "metadata": {},
   "outputs": [
    {
     "name": "stdout",
     "output_type": "stream",
     "text": [
      "-2 -2   -2 -1   -2 0   -2 1   -2 2   \n",
      "-1 -2   -1 -1   -1 0   -1 1   -1 2   \n",
      "0 -2   0 -1   0 0   0 1   0 2   \n",
      "1 -2   1 -1   1 0   1 1   1 2   \n",
      "2 -2   2 -1   2 0   2 1   2 2   \n",
      "[[0.0317564  0.03751576 0.03965895 0.03751576 0.0317564 ]\n",
      " [0.03751576 0.04431963 0.04685151 0.04431963 0.03751576]\n",
      " [0.03965895 0.04685151 0.04952803 0.04685151 0.03965895]\n",
      " [0.03751576 0.04431963 0.04685151 0.04431963 0.03751576]\n",
      " [0.0317564  0.03751576 0.03965895 0.03751576 0.0317564 ]]\n",
      "1.0\n",
      "[[0.0317564  0.03751576 0.03965895 0.03751576 0.0317564 ]\n",
      " [0.03751576 0.04431963 0.04685151 0.04431963 0.03751576]\n",
      " [0.03965895 0.04685151 0.04952803 0.04685151 0.03965895]\n",
      " [0.03751576 0.04431963 0.04685151 0.04431963 0.03751576]\n",
      " [0.0317564  0.03751576 0.03965895 0.03751576 0.0317564 ]]\n"
     ]
    }
   ],
   "source": [
    "#ガウシアンフィルタ\n",
    "retImg=pro.GaussianFilter(5,3)\n",
    "#この3つがそろえば、カーネルが壊れない\n",
    "cv2.imshow(\"retImg\",retImg)\n",
    "cv2.waitKey(0)\n",
    "cv2.destroyAllWindows()"
   ]
  },
  {
   "cell_type": "code",
   "execution_count": 4,
   "metadata": {},
   "outputs": [
    {
     "name": "stdout",
     "output_type": "stream",
     "text": [
      "[[-1 -1 -1]\n",
      " [-1  9 -1]\n",
      " [-1 -1 -1]]\n"
     ]
    }
   ],
   "source": [
    "#精鋭化フィルタ\n",
    "linearF=np.array([[-1,-1,-1],[-1,9,-1],[-1,-1,-1]])\n",
    "retImg=pro.LinearFilter(linearF)\n",
    "#この3つがそろえば、カーネルが壊れない\n",
    "cv2.imshow(\"retImg\",retImg)\n",
    "cv2.waitKey(0)\n",
    "cv2.destroyAllWindows()"
   ]
  },
  {
   "cell_type": "code",
   "execution_count": 5,
   "metadata": {},
   "outputs": [
    {
     "name": "stdout",
     "output_type": "stream",
     "text": [
      "[[ 0  1  0]\n",
      " [ 1 -4  1]\n",
      " [ 0  1  0]]\n"
     ]
    }
   ],
   "source": [
    "#ラプラシアンフィルタ\n",
    "linearF=np.array([[0,1,0],[1,-4,1],[0,1,0]])\n",
    "retImg=pro.LinearFilter(linearF)\n",
    "#この3つがそろえば、カーネルが壊れない\n",
    "cv2.imshow(\"retImg\",retImg)\n",
    "cv2.waitKey(0)\n",
    "cv2.destroyAllWindows()"
   ]
  },
  {
   "cell_type": "code",
   "execution_count": null,
   "metadata": {},
   "outputs": [],
   "source": [
    "#ラプラシアンフィルタ\n",
    "\n",
    "retImg=pro.Canny(120,180)\n",
    "#この3つがそろえば、カーネルが壊れない\n",
    "cv2.imshow(\"retImg\",retImg)\n",
    "cv2.waitKey(0)\n",
    "cv2.destroyAllWindows()"
   ]
  },
  {
   "cell_type": "code",
   "execution_count": 13,
   "metadata": {},
   "outputs": [
    {
     "data": {
      "text/plain": [
       "True"
      ]
     },
     "execution_count": 13,
     "metadata": {},
     "output_type": "execute_result"
    }
   ],
   "source": [
    "#画像書き出し\n",
    "fname_out = \"out.png\"\n",
    "cv2.imwrite(fname_out,retImg)"
   ]
  }
 ],
 "metadata": {
  "interpreter": {
   "hash": "668ef36ee95319cda135acf0bbf1b901525515e0432b278610f2adc16b4c4d5d"
  },
  "kernelspec": {
   "display_name": "Python 3.9.7 64-bit",
   "language": "python",
   "name": "python3"
  },
  "language_info": {
   "codemirror_mode": {
    "name": "ipython",
    "version": 3
   },
   "file_extension": ".py",
   "mimetype": "text/x-python",
   "name": "python",
   "nbconvert_exporter": "python",
   "pygments_lexer": "ipython3",
   "version": "3.9.7"
  },
  "orig_nbformat": 4
 },
 "nbformat": 4,
 "nbformat_minor": 2
}
