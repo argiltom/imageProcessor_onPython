{
 "cells": [
  {
   "cell_type": "code",
   "execution_count": 3,
   "metadata": {},
   "outputs": [],
   "source": [
    "import sys\n",
    "import numpy as np\n",
    "import math\n",
    "import cv2\n",
    "import time\n",
    "from imgProLib import imgProCls\n"
   ]
  },
  {
   "cell_type": "code",
   "execution_count": 4,
   "metadata": {},
   "outputs": [],
   "source": [
    "#画像読み込み\n",
    "\n",
    "fname_in  = \"Enemy1.png\"\n",
    "img = cv2.imread(fname_in)\n",
    "if img.all() == None:\n",
    "    print(\"画像が見つかりません\")\n",
    "pro=imgProCls(img)\n"
   ]
  },
  {
   "cell_type": "code",
   "execution_count": 6,
   "metadata": {},
   "outputs": [],
   "source": [
    "#大津法\n",
    "retImg=pro.OutuMethod()\n",
    "#この3つがそろえば、カーネルが壊れない\n",
    "cv2.imshow(\"retImg\",retImg)\n",
    "cv2.waitKey(0)\n",
    "cv2.destroyAllWindows()\n"
   ]
  },
  {
   "cell_type": "code",
   "execution_count": 13,
   "metadata": {},
   "outputs": [
    {
     "data": {
      "text/plain": [
       "True"
      ]
     },
     "execution_count": 13,
     "metadata": {},
     "output_type": "execute_result"
    }
   ],
   "source": [
    "#画像書き出し\n",
    "fname_out = \"out.png\"\n",
    "cv2.imwrite(fname_out,retImg)"
   ]
  }
 ],
 "metadata": {
  "interpreter": {
   "hash": "668ef36ee95319cda135acf0bbf1b901525515e0432b278610f2adc16b4c4d5d"
  },
  "kernelspec": {
   "display_name": "Python 3.9.7 64-bit",
   "language": "python",
   "name": "python3"
  },
  "language_info": {
   "codemirror_mode": {
    "name": "ipython",
    "version": 3
   },
   "file_extension": ".py",
   "mimetype": "text/x-python",
   "name": "python",
   "nbconvert_exporter": "python",
   "pygments_lexer": "ipython3",
   "version": "3.9.7"
  },
  "orig_nbformat": 4
 },
 "nbformat": 4,
 "nbformat_minor": 2
}
